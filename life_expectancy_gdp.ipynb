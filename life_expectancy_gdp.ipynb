{
 "cells": [
  {
   "cell_type": "code",
   "execution_count": 97,
   "metadata": {},
   "outputs": [],
   "source": [
    "import pandas as pd\n",
    "import numpy as np\n",
    "import matplotlib.pyplot as plt\n",
    "import seaborn as sns\n",
    "import sympy as sym\n",
    "from numpy.polynomial import Chebyshev as T\n",
    "import statsmodels.api as sm\n",
    "from sympy import symbols, exp\n"
   ]
  },
  {
   "cell_type": "code",
   "execution_count": null,
   "metadata": {},
   "outputs": [],
   "source": [
    "# load in data\n",
    "db = pd.read_csv('all_data.csv')\n",
    "pop = pd.read_csv('pop.csv')\n",
    "db.head()"
   ]
  },
  {
   "cell_type": "code",
   "execution_count": 28,
   "metadata": {},
   "outputs": [
    {
     "data": {
      "text/html": [
       "<div>\n",
       "<style scoped>\n",
       "    .dataframe tbody tr th:only-of-type {\n",
       "        vertical-align: middle;\n",
       "    }\n",
       "\n",
       "    .dataframe tbody tr th {\n",
       "        vertical-align: top;\n",
       "    }\n",
       "\n",
       "    .dataframe thead th {\n",
       "        text-align: right;\n",
       "    }\n",
       "</style>\n",
       "<table border=\"1\" class=\"dataframe\">\n",
       "  <thead>\n",
       "    <tr style=\"text-align: right;\">\n",
       "      <th></th>\n",
       "      <th>Country</th>\n",
       "      <th>Year</th>\n",
       "      <th>Life expectancy at birth (years)</th>\n",
       "      <th>GDP</th>\n",
       "    </tr>\n",
       "  </thead>\n",
       "  <tbody>\n",
       "    <tr>\n",
       "      <th>count</th>\n",
       "      <td>96</td>\n",
       "      <td>96.000000</td>\n",
       "      <td>96.000000</td>\n",
       "      <td>9.600000e+01</td>\n",
       "    </tr>\n",
       "    <tr>\n",
       "      <th>unique</th>\n",
       "      <td>6</td>\n",
       "      <td>NaN</td>\n",
       "      <td>NaN</td>\n",
       "      <td>NaN</td>\n",
       "    </tr>\n",
       "    <tr>\n",
       "      <th>top</th>\n",
       "      <td>Chile</td>\n",
       "      <td>NaN</td>\n",
       "      <td>NaN</td>\n",
       "      <td>NaN</td>\n",
       "    </tr>\n",
       "    <tr>\n",
       "      <th>freq</th>\n",
       "      <td>16</td>\n",
       "      <td>NaN</td>\n",
       "      <td>NaN</td>\n",
       "      <td>NaN</td>\n",
       "    </tr>\n",
       "    <tr>\n",
       "      <th>mean</th>\n",
       "      <td>NaN</td>\n",
       "      <td>2007.500000</td>\n",
       "      <td>72.789583</td>\n",
       "      <td>3.880499e+12</td>\n",
       "    </tr>\n",
       "    <tr>\n",
       "      <th>std</th>\n",
       "      <td>NaN</td>\n",
       "      <td>4.633971</td>\n",
       "      <td>10.672882</td>\n",
       "      <td>5.197561e+12</td>\n",
       "    </tr>\n",
       "    <tr>\n",
       "      <th>min</th>\n",
       "      <td>NaN</td>\n",
       "      <td>2000.000000</td>\n",
       "      <td>44.300000</td>\n",
       "      <td>4.415703e+09</td>\n",
       "    </tr>\n",
       "    <tr>\n",
       "      <th>25%</th>\n",
       "      <td>NaN</td>\n",
       "      <td>2003.750000</td>\n",
       "      <td>74.475000</td>\n",
       "      <td>1.733018e+11</td>\n",
       "    </tr>\n",
       "    <tr>\n",
       "      <th>50%</th>\n",
       "      <td>NaN</td>\n",
       "      <td>2007.500000</td>\n",
       "      <td>76.750000</td>\n",
       "      <td>1.280220e+12</td>\n",
       "    </tr>\n",
       "    <tr>\n",
       "      <th>75%</th>\n",
       "      <td>NaN</td>\n",
       "      <td>2011.250000</td>\n",
       "      <td>78.900000</td>\n",
       "      <td>4.067510e+12</td>\n",
       "    </tr>\n",
       "    <tr>\n",
       "      <th>max</th>\n",
       "      <td>NaN</td>\n",
       "      <td>2015.000000</td>\n",
       "      <td>81.000000</td>\n",
       "      <td>1.810000e+13</td>\n",
       "    </tr>\n",
       "  </tbody>\n",
       "</table>\n",
       "</div>"
      ],
      "text/plain": [
       "       Country         Year  Life expectancy at birth (years)           GDP\n",
       "count       96    96.000000                         96.000000  9.600000e+01\n",
       "unique       6          NaN                               NaN           NaN\n",
       "top      Chile          NaN                               NaN           NaN\n",
       "freq        16          NaN                               NaN           NaN\n",
       "mean       NaN  2007.500000                         72.789583  3.880499e+12\n",
       "std        NaN     4.633971                         10.672882  5.197561e+12\n",
       "min        NaN  2000.000000                         44.300000  4.415703e+09\n",
       "25%        NaN  2003.750000                         74.475000  1.733018e+11\n",
       "50%        NaN  2007.500000                         76.750000  1.280220e+12\n",
       "75%        NaN  2011.250000                         78.900000  4.067510e+12\n",
       "max        NaN  2015.000000                         81.000000  1.810000e+13"
      ]
     },
     "execution_count": 28,
     "metadata": {},
     "output_type": "execute_result"
    }
   ],
   "source": [
    "db.describe(include='all')"
   ]
  },
  {
   "cell_type": "code",
   "execution_count": 29,
   "metadata": {},
   "outputs": [
    {
     "name": "stdout",
     "output_type": "stream",
     "text": [
      "<class 'pandas.core.frame.DataFrame'>\n",
      "RangeIndex: 96 entries, 0 to 95\n",
      "Data columns (total 4 columns):\n",
      " #   Column                            Non-Null Count  Dtype  \n",
      "---  ------                            --------------  -----  \n",
      " 0   Country                           96 non-null     object \n",
      " 1   Year                              96 non-null     int64  \n",
      " 2   Life expectancy at birth (years)  96 non-null     float64\n",
      " 3   GDP                               96 non-null     float64\n",
      "dtypes: float64(2), int64(1), object(1)\n",
      "memory usage: 3.1+ KB\n"
     ]
    }
   ],
   "source": [
    "db.info()"
   ]
  },
  {
   "cell_type": "code",
   "execution_count": 30,
   "metadata": {},
   "outputs": [
    {
     "data": {
      "text/plain": [
       "Country\n",
       "Chile                       16\n",
       "China                       16\n",
       "Germany                     16\n",
       "Mexico                      16\n",
       "United States of America    16\n",
       "Zimbabwe                    16\n",
       "Name: count, dtype: int64"
      ]
     },
     "execution_count": 30,
     "metadata": {},
     "output_type": "execute_result"
    }
   ],
   "source": [
    "db.Country.value_counts()"
   ]
  },
  {
   "cell_type": "code",
   "execution_count": 31,
   "metadata": {},
   "outputs": [
    {
     "data": {
      "text/plain": [
       "Year\n",
       "2000    6\n",
       "2001    6\n",
       "2002    6\n",
       "2003    6\n",
       "2004    6\n",
       "2005    6\n",
       "2006    6\n",
       "2007    6\n",
       "2008    6\n",
       "2009    6\n",
       "2010    6\n",
       "2011    6\n",
       "2012    6\n",
       "2013    6\n",
       "2014    6\n",
       "2015    6\n",
       "Name: count, dtype: int64"
      ]
     },
     "execution_count": 31,
     "metadata": {},
     "output_type": "execute_result"
    }
   ],
   "source": [
    "db.Year.value_counts()"
   ]
  },
  {
   "cell_type": "code",
   "execution_count": 32,
   "metadata": {},
   "outputs": [
    {
     "data": {
      "text/html": [
       "<div>\n",
       "<style scoped>\n",
       "    .dataframe tbody tr th:only-of-type {\n",
       "        vertical-align: middle;\n",
       "    }\n",
       "\n",
       "    .dataframe tbody tr th {\n",
       "        vertical-align: top;\n",
       "    }\n",
       "\n",
       "    .dataframe thead th {\n",
       "        text-align: right;\n",
       "    }\n",
       "</style>\n",
       "<table border=\"1\" class=\"dataframe\">\n",
       "  <thead>\n",
       "    <tr style=\"text-align: right;\">\n",
       "      <th></th>\n",
       "      <th>Country Name</th>\n",
       "      <th>2000</th>\n",
       "      <th>2001</th>\n",
       "      <th>2002</th>\n",
       "      <th>2003</th>\n",
       "      <th>2004</th>\n",
       "      <th>2005</th>\n",
       "      <th>2006</th>\n",
       "      <th>2007</th>\n",
       "      <th>2008</th>\n",
       "      <th>2009</th>\n",
       "      <th>2010</th>\n",
       "      <th>2011</th>\n",
       "      <th>2012</th>\n",
       "      <th>2013</th>\n",
       "      <th>2014</th>\n",
       "      <th>2015</th>\n",
       "    </tr>\n",
       "  </thead>\n",
       "  <tbody>\n",
       "    <tr>\n",
       "      <th>0</th>\n",
       "      <td>Chile</td>\n",
       "      <td>15351799</td>\n",
       "      <td>15523978</td>\n",
       "      <td>15693790</td>\n",
       "      <td>15859112</td>\n",
       "      <td>16017966</td>\n",
       "      <td>16175311</td>\n",
       "      <td>16334575</td>\n",
       "      <td>16495538</td>\n",
       "      <td>16661462</td>\n",
       "      <td>16833447</td>\n",
       "      <td>17004162</td>\n",
       "      <td>17173573</td>\n",
       "      <td>17341771</td>\n",
       "      <td>17509925</td>\n",
       "      <td>17687108</td>\n",
       "      <td>17870124</td>\n",
       "    </tr>\n",
       "    <tr>\n",
       "      <th>1</th>\n",
       "      <td>China</td>\n",
       "      <td>1262645000</td>\n",
       "      <td>1271850000</td>\n",
       "      <td>1280400000</td>\n",
       "      <td>1288400000</td>\n",
       "      <td>1296075000</td>\n",
       "      <td>1303720000</td>\n",
       "      <td>1311020000</td>\n",
       "      <td>1317885000</td>\n",
       "      <td>1324655000</td>\n",
       "      <td>1331260000</td>\n",
       "      <td>1337705000</td>\n",
       "      <td>1345035000</td>\n",
       "      <td>1354190000</td>\n",
       "      <td>1363240000</td>\n",
       "      <td>1371860000</td>\n",
       "      <td>1379860000</td>\n",
       "    </tr>\n",
       "    <tr>\n",
       "      <th>2</th>\n",
       "      <td>Germany</td>\n",
       "      <td>82211508</td>\n",
       "      <td>82349925</td>\n",
       "      <td>82488495</td>\n",
       "      <td>82534176</td>\n",
       "      <td>82516260</td>\n",
       "      <td>82469422</td>\n",
       "      <td>82376451</td>\n",
       "      <td>82266372</td>\n",
       "      <td>82110097</td>\n",
       "      <td>81902307</td>\n",
       "      <td>81776930</td>\n",
       "      <td>80274983</td>\n",
       "      <td>80425823</td>\n",
       "      <td>80645605</td>\n",
       "      <td>80982500</td>\n",
       "      <td>81686611</td>\n",
       "    </tr>\n",
       "    <tr>\n",
       "      <th>3</th>\n",
       "      <td>Mexico</td>\n",
       "      <td>97873442</td>\n",
       "      <td>99394288</td>\n",
       "      <td>100917081</td>\n",
       "      <td>102429341</td>\n",
       "      <td>103945813</td>\n",
       "      <td>105442402</td>\n",
       "      <td>106886790</td>\n",
       "      <td>108302973</td>\n",
       "      <td>109684489</td>\n",
       "      <td>111049428</td>\n",
       "      <td>112532401</td>\n",
       "      <td>114150481</td>\n",
       "      <td>115755909</td>\n",
       "      <td>117290686</td>\n",
       "      <td>118755887</td>\n",
       "      <td>120149897</td>\n",
       "    </tr>\n",
       "    <tr>\n",
       "      <th>4</th>\n",
       "      <td>United States of America</td>\n",
       "      <td>282162411</td>\n",
       "      <td>284968955</td>\n",
       "      <td>287625193</td>\n",
       "      <td>290107933</td>\n",
       "      <td>292805298</td>\n",
       "      <td>295516599</td>\n",
       "      <td>298379912</td>\n",
       "      <td>301231207</td>\n",
       "      <td>304093966</td>\n",
       "      <td>306771529</td>\n",
       "      <td>309327143</td>\n",
       "      <td>311583481</td>\n",
       "      <td>313877662</td>\n",
       "      <td>316059947</td>\n",
       "      <td>318386329</td>\n",
       "      <td>320738994</td>\n",
       "    </tr>\n",
       "  </tbody>\n",
       "</table>\n",
       "</div>"
      ],
      "text/plain": [
       "                Country Name        2000        2001        2002        2003  \\\n",
       "0                      Chile    15351799    15523978    15693790    15859112   \n",
       "1                      China  1262645000  1271850000  1280400000  1288400000   \n",
       "2                    Germany    82211508    82349925    82488495    82534176   \n",
       "3                     Mexico    97873442    99394288   100917081   102429341   \n",
       "4  United States of America    282162411   284968955   287625193   290107933   \n",
       "\n",
       "         2004        2005        2006        2007        2008        2009  \\\n",
       "0    16017966    16175311    16334575    16495538    16661462    16833447   \n",
       "1  1296075000  1303720000  1311020000  1317885000  1324655000  1331260000   \n",
       "2    82516260    82469422    82376451    82266372    82110097    81902307   \n",
       "3   103945813   105442402   106886790   108302973   109684489   111049428   \n",
       "4   292805298   295516599   298379912   301231207   304093966   306771529   \n",
       "\n",
       "         2010        2011        2012        2013        2014        2015  \n",
       "0    17004162    17173573    17341771    17509925    17687108    17870124  \n",
       "1  1337705000  1345035000  1354190000  1363240000  1371860000  1379860000  \n",
       "2    81776930    80274983    80425823    80645605    80982500    81686611  \n",
       "3   112532401   114150481   115755909   117290686   118755887   120149897  \n",
       "4   309327143   311583481   313877662   316059947   318386329   320738994  "
      ]
     },
     "execution_count": 32,
     "metadata": {},
     "output_type": "execute_result"
    }
   ],
   "source": [
    "pop.head()"
   ]
  },
  {
   "cell_type": "code",
   "execution_count": 33,
   "metadata": {},
   "outputs": [],
   "source": [
    "pop = pd.melt(pop, id_vars=['Country Name'], var_name='Year', value_name='Population')\n",
    "pop = pop.rename(columns={\"Country Name\": \"Country\"})\n",
    "pop[\"Year\"] = pop[\"Year\"].astype(np.int64)"
   ]
  },
  {
   "cell_type": "code",
   "execution_count": 34,
   "metadata": {},
   "outputs": [
    {
     "data": {
      "text/plain": [
       "<bound method NDFrame.head of                       Country  Year  Population\n",
       "0                       Chile  2000    15351799\n",
       "1                       China  2000  1262645000\n",
       "2                     Germany  2000    82211508\n",
       "3                      Mexico  2000    97873442\n",
       "4   United States of America   2000   282162411\n",
       "..                        ...   ...         ...\n",
       "91                      China  2015  1379860000\n",
       "92                    Germany  2015    81686611\n",
       "93                     Mexico  2015   120149897\n",
       "94  United States of America   2015   320738994\n",
       "95                   Zimbabwe  2015    14154937\n",
       "\n",
       "[96 rows x 3 columns]>"
      ]
     },
     "execution_count": 34,
     "metadata": {},
     "output_type": "execute_result"
    }
   ],
   "source": [
    "pop.head"
   ]
  },
  {
   "cell_type": "code",
   "execution_count": 35,
   "metadata": {},
   "outputs": [
    {
     "name": "stdout",
     "output_type": "stream",
     "text": [
      "<class 'pandas.core.frame.DataFrame'>\n",
      "RangeIndex: 96 entries, 0 to 95\n",
      "Data columns (total 3 columns):\n",
      " #   Column      Non-Null Count  Dtype \n",
      "---  ------      --------------  ----- \n",
      " 0   Country     96 non-null     object\n",
      " 1   Year        96 non-null     int64 \n",
      " 2   Population  96 non-null     int64 \n",
      "dtypes: int64(2), object(1)\n",
      "memory usage: 2.4+ KB\n"
     ]
    }
   ],
   "source": [
    "pop.info()"
   ]
  },
  {
   "cell_type": "code",
   "execution_count": 36,
   "metadata": {},
   "outputs": [],
   "source": [
    "db = db.merge(pop, left_on=['Country','Year'], right_on=['Country','Year'],how='inner')"
   ]
  },
  {
   "cell_type": "code",
   "execution_count": 37,
   "metadata": {},
   "outputs": [],
   "source": [
    "db['GDP_per_Capita'] = db.GDP / db.Population"
   ]
  },
  {
   "cell_type": "code",
   "execution_count": 38,
   "metadata": {},
   "outputs": [
    {
     "data": {
      "text/plain": [
       "<bound method NDFrame.head of      Country  Year  Life expectancy at birth (years)           GDP  \\\n",
       "0      Chile  2000                              77.3  7.786093e+10   \n",
       "1      Chile  2001                              77.3  7.097992e+10   \n",
       "2      Chile  2002                              77.8  6.973681e+10   \n",
       "3      Chile  2003                              77.9  7.564346e+10   \n",
       "4      Chile  2004                              78.0  9.921039e+10   \n",
       "..       ...   ...                               ...           ...   \n",
       "75  Zimbabwe  2011                              54.9  1.209845e+10   \n",
       "76  Zimbabwe  2012                              56.6  1.424249e+10   \n",
       "77  Zimbabwe  2013                              58.0  1.545177e+10   \n",
       "78  Zimbabwe  2014                              59.2  1.589105e+10   \n",
       "79  Zimbabwe  2015                              60.7  1.630467e+10   \n",
       "\n",
       "    Population  GDP_per_Capita  \n",
       "0     15351799     5071.779024  \n",
       "1     15523978     4572.276768  \n",
       "2     15693790     4443.592748  \n",
       "3     15859112     4769.715974  \n",
       "4     16017966     6193.694809  \n",
       "..         ...             ...  \n",
       "75    13025785      928.807803  \n",
       "76    13265331     1073.662636  \n",
       "77    13555422     1139.895804  \n",
       "78    13855753     1146.891781  \n",
       "79    14154937     1151.871450  \n",
       "\n",
       "[80 rows x 6 columns]>"
      ]
     },
     "execution_count": 38,
     "metadata": {},
     "output_type": "execute_result"
    }
   ],
   "source": [
    "db.head"
   ]
  },
  {
   "cell_type": "code",
   "execution_count": 95,
   "metadata": {},
   "outputs": [
    {
     "data": {
      "image/png": "[encoded data removed]",
      "text/plain": [
       "<Figure size 640x480 with 1 Axes>"
      ]
     },
     "metadata": {},
     "output_type": "display_data"
    },
    {
     "data": {
      "text/plain": [
       "<Figure size 640x480 with 0 Axes>"
      ]
     },
     "metadata": {},
     "output_type": "display_data"
    }
   ],
   "source": [
    "#db.set_index(\"Year\", inplace=True)\n",
    "\n",
    "db = db.rename(columns={\"Life expectancy at birth (years)\": \"Life_Expectancy\"})\n",
    "\n",
    "year_sum = db.groupby('Year', group_keys=False).Life_Expectancy.mean().reset_index()\n",
    "gdp_sum = db.groupby('GDP_per_Capita', group_keys=False).Life_Expectancy.mean().reset_index()\n",
    "\n",
    "# create line plot of sales data\n",
    "plt.plot(year_sum[\"Year\"], year_sum[\"Life_Expectancy\"])\n",
    "plt.xlabel(\"Year\")\n",
    "plt.ylabel(\"Life expectancy at birth (years)\")\n",
    "plt.show()\n",
    "plt.clf()\n"
   ]
  },
  {
   "cell_type": "code",
   "execution_count": 98,
   "metadata": {},
   "outputs": [
    {
     "data": {
      "image/png": "[encoded data removed]",
      "text/plain": [
       "<Figure size 928.125x500 with 1 Axes>"
      ]
     },
     "metadata": {},
     "output_type": "display_data"
    },
    {
     "name": "stdout",
     "output_type": "stream",
     "text": [
      "80 - 80*exp(-a/1500 - 2/3)\n"
     ]
    },
    {
     "data": {
      "text/plain": [
       "<Figure size 640x480 with 0 Axes>"
      ]
     },
     "metadata": {},
     "output_type": "display_data"
    }
   ],
   "source": [
    "\n",
    "countries = list(db['Country'].value_counts().index)\n",
    "\n",
    "a = sym.symbols('a')\n",
    "\n",
    "f = 80 * (1 - sym.exp(-(a+1000)/1500)) \n",
    "X = np.linspace(1, 50000) \n",
    "Y = sym.lambdify(a, f, \"numpy\")(X)\n",
    "\n",
    "p1 = sns.relplot(data=db, x='GDP_per_Capita', y='Life_Expectancy', hue='Country', hue_order=countries, aspect=1.61,)\n",
    "p2 = plt.plot(X, Y)\n",
    "\n",
    "ax = p1.axes[0,0]\n",
    "\n",
    "\n",
    "plt.show()\n",
    "plt.clf()\n",
    "print(f)"
   ]
  },
  {
   "cell_type": "code",
   "execution_count": null,
   "metadata": {},
   "outputs": [],
   "source": []
  }
 ],
 "metadata": {
  "kernelspec": {
   "display_name": "Python 3 (ipykernel)",
   "language": "python",
   "name": "python3"
  },
  "language_info": {
   "codemirror_mode": {
    "name": "ipython",
    "version": 3
   },
   "file_extension": ".py",
   "mimetype": "text/x-python",
   "name": "python",
   "nbconvert_exporter": "python",
   "pygments_lexer": "ipython3",
   "version": "3.12.4"
  }
 },
 "nbformat": 4,
 "nbformat_minor": 4
}
